{
 "cells": [
  {
   "cell_type": "markdown",
   "id": "0f0b2bb2",
   "metadata": {},
   "source": [
    "# Libraries to Import"
   ]
  },
  {
   "cell_type": "code",
   "execution_count": 477,
   "id": "3a141337",
   "metadata": {},
   "outputs": [],
   "source": [
    "import numpy as np\n",
    "import pandas as pd\n",
    "import random\n",
    "from sklearn.model_selection import train_test_split\n",
    "  \n",
    "import matplotlib.pyplot as plt"
   ]
  },
  {
   "cell_type": "markdown",
   "id": "db68bd16",
   "metadata": {},
   "source": [
    "# Reading the Dataset"
   ]
  },
  {
   "cell_type": "code",
   "execution_count": 478,
   "id": "99678eb6",
   "metadata": {},
   "outputs": [
    {
     "data": {
      "text/html": [
       "<div>\n",
       "<style scoped>\n",
       "    .dataframe tbody tr th:only-of-type {\n",
       "        vertical-align: middle;\n",
       "    }\n",
       "\n",
       "    .dataframe tbody tr th {\n",
       "        vertical-align: top;\n",
       "    }\n",
       "\n",
       "    .dataframe thead th {\n",
       "        text-align: right;\n",
       "    }\n",
       "</style>\n",
       "<table border=\"1\" class=\"dataframe\">\n",
       "  <thead>\n",
       "    <tr style=\"text-align: right;\">\n",
       "      <th></th>\n",
       "      <th>Make</th>\n",
       "      <th>Model</th>\n",
       "      <th>Vehicle Class</th>\n",
       "      <th>Engine Size(L)</th>\n",
       "      <th>Cylinders</th>\n",
       "      <th>Transmission</th>\n",
       "      <th>Fuel Type</th>\n",
       "      <th>Fuel Consumption City (L/100 km)</th>\n",
       "      <th>Fuel Consumption Hwy (L/100 km)</th>\n",
       "      <th>Fuel Consumption Comb (L/100 km)</th>\n",
       "      <th>Fuel Consumption Comb (mpg)</th>\n",
       "      <th>CO2 Emissions(g/km)</th>\n",
       "    </tr>\n",
       "  </thead>\n",
       "  <tbody>\n",
       "    <tr>\n",
       "      <th>0</th>\n",
       "      <td>ACURA</td>\n",
       "      <td>ILX</td>\n",
       "      <td>COMPACT</td>\n",
       "      <td>2.0</td>\n",
       "      <td>4</td>\n",
       "      <td>AS5</td>\n",
       "      <td>Z</td>\n",
       "      <td>9.9</td>\n",
       "      <td>6.7</td>\n",
       "      <td>8.5</td>\n",
       "      <td>33</td>\n",
       "      <td>196</td>\n",
       "    </tr>\n",
       "    <tr>\n",
       "      <th>1</th>\n",
       "      <td>ACURA</td>\n",
       "      <td>ILX</td>\n",
       "      <td>COMPACT</td>\n",
       "      <td>2.4</td>\n",
       "      <td>4</td>\n",
       "      <td>M6</td>\n",
       "      <td>Z</td>\n",
       "      <td>11.2</td>\n",
       "      <td>7.7</td>\n",
       "      <td>9.6</td>\n",
       "      <td>29</td>\n",
       "      <td>221</td>\n",
       "    </tr>\n",
       "    <tr>\n",
       "      <th>2</th>\n",
       "      <td>ACURA</td>\n",
       "      <td>ILX HYBRID</td>\n",
       "      <td>COMPACT</td>\n",
       "      <td>1.5</td>\n",
       "      <td>4</td>\n",
       "      <td>AV7</td>\n",
       "      <td>Z</td>\n",
       "      <td>6.0</td>\n",
       "      <td>5.8</td>\n",
       "      <td>5.9</td>\n",
       "      <td>48</td>\n",
       "      <td>136</td>\n",
       "    </tr>\n",
       "    <tr>\n",
       "      <th>3</th>\n",
       "      <td>ACURA</td>\n",
       "      <td>MDX 4WD</td>\n",
       "      <td>SUV - SMALL</td>\n",
       "      <td>3.5</td>\n",
       "      <td>6</td>\n",
       "      <td>AS6</td>\n",
       "      <td>Z</td>\n",
       "      <td>12.7</td>\n",
       "      <td>9.1</td>\n",
       "      <td>11.1</td>\n",
       "      <td>25</td>\n",
       "      <td>255</td>\n",
       "    </tr>\n",
       "    <tr>\n",
       "      <th>4</th>\n",
       "      <td>ACURA</td>\n",
       "      <td>RDX AWD</td>\n",
       "      <td>SUV - SMALL</td>\n",
       "      <td>3.5</td>\n",
       "      <td>6</td>\n",
       "      <td>AS6</td>\n",
       "      <td>Z</td>\n",
       "      <td>12.1</td>\n",
       "      <td>8.7</td>\n",
       "      <td>10.6</td>\n",
       "      <td>27</td>\n",
       "      <td>244</td>\n",
       "    </tr>\n",
       "  </tbody>\n",
       "</table>\n",
       "</div>"
      ],
      "text/plain": [
       "    Make       Model Vehicle Class  Engine Size(L)  Cylinders Transmission  \\\n",
       "0  ACURA         ILX       COMPACT             2.0          4          AS5   \n",
       "1  ACURA         ILX       COMPACT             2.4          4           M6   \n",
       "2  ACURA  ILX HYBRID       COMPACT             1.5          4          AV7   \n",
       "3  ACURA     MDX 4WD   SUV - SMALL             3.5          6          AS6   \n",
       "4  ACURA     RDX AWD   SUV - SMALL             3.5          6          AS6   \n",
       "\n",
       "  Fuel Type  Fuel Consumption City (L/100 km)  \\\n",
       "0         Z                               9.9   \n",
       "1         Z                              11.2   \n",
       "2         Z                               6.0   \n",
       "3         Z                              12.7   \n",
       "4         Z                              12.1   \n",
       "\n",
       "   Fuel Consumption Hwy (L/100 km)  Fuel Consumption Comb (L/100 km)  \\\n",
       "0                              6.7                               8.5   \n",
       "1                              7.7                               9.6   \n",
       "2                              5.8                               5.9   \n",
       "3                              9.1                              11.1   \n",
       "4                              8.7                              10.6   \n",
       "\n",
       "   Fuel Consumption Comb (mpg)  CO2 Emissions(g/km)  \n",
       "0                           33                  196  \n",
       "1                           29                  221  \n",
       "2                           48                  136  \n",
       "3                           25                  255  \n",
       "4                           27                  244  "
      ]
     },
     "execution_count": 478,
     "metadata": {},
     "output_type": "execute_result"
    }
   ],
   "source": [
    "df = pd.read_csv( \"CO2 Emissions_Canada.csv\" )\n",
    "  \n",
    "df.head()"
   ]
  },
  {
   "cell_type": "markdown",
   "id": "c87a2a33",
   "metadata": {},
   "source": [
    "# Selecting X and Y "
   ]
  },
  {
   "cell_type": "code",
   "execution_count": 479,
   "id": "8cabc521",
   "metadata": {},
   "outputs": [],
   "source": [
    "X = np.array(df[['Engine Size(L)', 'Cylinders', 'Fuel Consumption City (L/100 km)', 'Fuel Consumption Hwy (L/100 km)', 'Fuel Consumption Comb (L/100 km)', 'Fuel Consumption Comb (mpg)']].values)\n",
    "  \n",
    "Y = np.array(df[['CO2 Emissions(g/km)']].values)\n"
   ]
  },
  {
   "cell_type": "markdown",
   "id": "5ba99efa",
   "metadata": {},
   "source": [
    "# Splitting into Test and Train"
   ]
  },
  {
   "cell_type": "code",
   "execution_count": 480,
   "id": "aff21067",
   "metadata": {},
   "outputs": [],
   "source": [
    "X_train, X_test, Y_train, Y_test = train_test_split( \n",
    "      X, Y, test_size = 1/3)"
   ]
  },
  {
   "cell_type": "markdown",
   "id": "00191925",
   "metadata": {},
   "source": [
    "# Initializing Variables"
   ]
  },
  {
   "cell_type": "code",
   "execution_count": 481,
   "id": "c9c341a4",
   "metadata": {},
   "outputs": [],
   "source": [
    "m=len(X_train)\n",
    "n=len(X_train[0])\n",
    "y_predict=[]\n",
    "W=np.array([0 for i in range(n)])\n",
    "W=W.reshape(n,1)\n",
    "b=0"
   ]
  },
  {
   "cell_type": "code",
   "execution_count": null,
   "id": "d4609ea8",
   "metadata": {},
   "outputs": [],
   "source": [
    "\n"
   ]
  },
  {
   "cell_type": "markdown",
   "id": "b6a02dd7",
   "metadata": {},
   "source": [
    "# Training Function"
   ]
  },
  {
   "cell_type": "code",
   "execution_count": 482,
   "id": "97a1900f",
   "metadata": {},
   "outputs": [],
   "source": [
    "def train(X, Y, W, b) :\n",
    "          \n",
    "        # here m is number of training examples, \n",
    "        # n is number of features\n",
    "          \n",
    "          \n",
    "        # initializing the weights\n",
    "          \n",
    "        \n",
    "          \n",
    "          \n",
    "        # Updating weights using gradient_descent\n",
    "                  \n",
    "            #for i in range( 1000 ) :\n",
    "    cost =100\n",
    "    while(cost<=-5 or cost>=5):\n",
    "        W,b,Y_pred = gradient_descent(X,Y,m,W,b)\n",
    "            \n",
    "        cost=np.sum((Y_pred-Y)*(Y_pred-Y))/(2*m)\n",
    "        #print(cost)\n",
    "            #if(cost>=-5 and cost<=5):\n",
    "                #break\n",
    "            \n",
    "    return W,b"
   ]
  },
  {
   "cell_type": "markdown",
   "id": "21540e6a",
   "metadata": {},
   "source": [
    "# Gradient Descent"
   ]
  },
  {
   "cell_type": "code",
   "execution_count": 486,
   "id": "a46d7105",
   "metadata": {},
   "outputs": [],
   "source": [
    "def gradient_descent( X,Y,m,W,b ) :\n",
    "        learning_rate=0.0005\n",
    "        \n",
    "        Y_pred = predict( X, W, b )\n",
    "        # calculate gradients \n",
    "        \n",
    "      \n",
    "        dW = - ( 2 * ( X.T ).dot( Y - Y_pred ) )  / m\n",
    "        db = - 2 * np.sum( Y - Y_pred ) / m \n",
    "          \n",
    "        # update weights\n",
    "      \n",
    "        W = W - learning_rate * dW\n",
    "      \n",
    "        b = b - learning_rate * db\n",
    "          \n",
    "        return W,b,Y_pred"
   ]
  },
  {
   "cell_type": "markdown",
   "id": "9f92a7b4",
   "metadata": {},
   "source": [
    "# Predict Function"
   ]
  },
  {
   "cell_type": "code",
   "execution_count": 487,
   "id": "2f082f63",
   "metadata": {},
   "outputs": [],
   "source": [
    "def predict( X, W, b ) :\n",
    "      \n",
    "        return X.dot( W ) + b"
   ]
  },
  {
   "cell_type": "markdown",
   "id": "cddbfa14",
   "metadata": {},
   "source": [
    "# Driving Cell"
   ]
  },
  {
   "cell_type": "code",
   "execution_count": null,
   "id": "2276b24a",
   "metadata": {},
   "outputs": [],
   "source": [
    "\n",
    "W,b = train( X_train, Y_train, W, b )\n",
    "      \n",
    "    # Prediction on test set\n",
    "  \n",
    "Y_pred = predict( X_test, W, b )\n",
    "      \n",
    "print( \"Predicted values \", np.round( Y_pred[:3], 2 ) ) \n",
    "      \n",
    "print( \"Real values      \", Y_test[:3] )\n",
    "      \n",
    "print( \"Trained W        \", W )\n",
    "      \n",
    "print( \"Trained b        \", b )"
   ]
  },
  {
   "cell_type": "code",
   "execution_count": null,
   "id": "cfd65dcf",
   "metadata": {},
   "outputs": [],
   "source": []
  }
 ],
 "metadata": {
  "kernelspec": {
   "display_name": "Python 3",
   "language": "python",
   "name": "python3"
  },
  "language_info": {
   "codemirror_mode": {
    "name": "ipython",
    "version": 3
   },
   "file_extension": ".py",
   "mimetype": "text/x-python",
   "name": "python",
   "nbconvert_exporter": "python",
   "pygments_lexer": "ipython3",
   "version": "3.6.8"
  }
 },
 "nbformat": 4,
 "nbformat_minor": 5
}
